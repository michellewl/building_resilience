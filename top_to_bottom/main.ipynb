{
 "cells": [
  {
   "cell_type": "code",
   "execution_count": 1,
   "metadata": {},
   "outputs": [],
   "source": [
    "import numpy as np\n",
    "import xarray as xr\n",
    "import pandas as pd\n",
    "import os\n",
    "\n",
    "import helper_functions as hf \n",
    "\n",
    "path = '/home/ts809/Documents/Code/github/building_resilience/top_to_bottom/' "
   ]
  },
  {
   "cell_type": "code",
   "execution_count": 2,
   "metadata": {},
   "outputs": [],
   "source": [
    "## read EXTRAdata files:\n",
    "\n",
    "# country codes for countries written in the UN format\n",
    "CCs = pd.read_csv('data/help_data/UN_country_code.csv')\n",
    "CCs = CCs.dropna(axis = 0).reset_index(drop=True)\n",
    "\n",
    "# country codes for countries written in the WB format\n",
    "WBs = pd.read_csv('data/help_data/WB_country_code.csv')\n",
    "WBs = WBs.dropna(axis = 0).reset_index(drop=True)\n",
    "\n",
    "#read WB data\n",
    "WB_data = pd.read_csv('data/WB_WDI_data/wb_data.csv')\n",
    "\n",
    "#read UN data\n",
    "UN_data = pd.read_csv('data/UN_data/WPP2019_TotalPopulationBySex.csv')"
   ]
  },
  {
   "cell_type": "code",
   "execution_count": 3,
   "metadata": {},
   "outputs": [
    {
     "name": "stdout",
     "output_type": "stream",
     "text": [
      "Medium scenario population prediction data succesfully extracted in your variable!\n"
     ]
    }
   ],
   "source": [
    "UN_prediction = hf.choose_UN_scenario(UN_data,'Medium')"
   ]
  },
  {
   "cell_type": "code",
   "execution_count": 6,
   "metadata": {},
   "outputs": [
    {
     "name": "stdout",
     "output_type": "stream",
     "text": [
      "WB data for the year 2013 was succesfully imported!\n"
     ]
    }
   ],
   "source": [
    "WB_2013 = hf.get_year_of_WB_data(2013,WB_data)"
   ]
  },
  {
   "cell_type": "code",
   "execution_count": null,
   "metadata": {},
   "outputs": [],
   "source": []
  },
  {
   "cell_type": "code",
   "execution_count": null,
   "metadata": {},
   "outputs": [],
   "source": []
  }
 ],
 "metadata": {
  "kernelspec": {
   "display_name": "Python 3",
   "language": "python",
   "name": "python3"
  },
  "language_info": {
   "codemirror_mode": {
    "name": "ipython",
    "version": 3
   },
   "file_extension": ".py",
   "mimetype": "text/x-python",
   "name": "python",
   "nbconvert_exporter": "python",
   "pygments_lexer": "ipython3",
   "version": "3.7.3"
  }
 },
 "nbformat": 4,
 "nbformat_minor": 4
}
