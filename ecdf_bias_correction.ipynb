{
 "cells": [
  {
   "cell_type": "markdown",
   "metadata": {},
   "source": [
    "# Bias correction - empirical distribution mapping\n",
    "\n",
    "## Author: Anna Vaughan\n",
    "\n",
    "Demonstrates how to bias correct data using detrended quantile mapping (DQM)"
   ]
  },
  {
   "cell_type": "code",
   "execution_count": 89,
   "metadata": {},
   "outputs": [],
   "source": [
    "import xarray\n",
    "from matplotlib import pyplot as plt \n",
    "from scipy.signal import detrend\n",
    "import warnings\n",
    "import numpy as np\n",
    "warnings.filterwarnings('ignore')"
   ]
  },
  {
   "cell_type": "markdown",
   "metadata": {},
   "source": [
    "$\\hat{x}_{m, p}(t) = F_{o, h}^{-1}(F_{m, h}[\\frac{\\bar{x}_{m, h}x_{m, p}(t)}{\\bar{x}_{m, p}(t)}])\\frac{\\bar{x}_{m, p}(t)}{\\bar{x}_{m, h}}$\n",
    "\n",
    "p = projected\n",
    "\n",
    "h = historical\n",
    "\n",
    "m = model\n",
    "\n",
    "o = observed"
   ]
  },
  {
   "cell_type": "code",
   "execution_count": 90,
   "metadata": {},
   "outputs": [],
   "source": [
    "from statsmodels.distributions.empirical_distribution import ECDF"
   ]
  },
  {
   "cell_type": "code",
   "execution_count": 91,
   "metadata": {},
   "outputs": [],
   "source": [
    "rcp_45_data = xarray.open_dataarray('Beijing_rcp45.nc')\n",
    "rcp_85_data = xarray.open_dataarray('Beijing_rcp85.nc')\n",
    "obs_data = xarray.open_dataarray('Beijing_ERAI.nc')"
   ]
  },
  {
   "cell_type": "code",
   "execution_count": 92,
   "metadata": {},
   "outputs": [],
   "source": [
    "def ecdf_bias_correction(model, obs, ref_times, future_times):\n",
    "\n",
    "    model_h = model.sel(time=slice(*ref_times)).values\n",
    "    model_p = model.sel(time=slice(*future_times)).values\n",
    "    obs_h = obs.sel(time=slice(*ref_times)).values\n",
    "    \n",
    "    # Construct ECDF for historical model times\n",
    "    ecdf_m_h = ECDF(model_h)\n",
    "\n",
    "    # Find x_{m, h} mean\n",
    "    mu_m_h = model_h.mean()\n",
    "\n",
    "    # Find x_{m, p} mean\n",
    "    mu_m_p = model_p.mean()\n",
    "    \n",
    "    r1 = mu_m_h/mu_m_p\n",
    "    r2 = mu_m_p/mu_m_h\n",
    "\n",
    "    corrected = [np.quantile(obs_h, (ecdf_m_h(r1*val)))*r2\n",
    "                     for val in model_p]\n",
    "    return(corrected)"
   ]
  },
  {
   "cell_type": "code",
   "execution_count": 93,
   "metadata": {},
   "outputs": [],
   "source": [
    "ref_times = ('2010-01-01', '2019-12-31')\n",
    "future_times = ('2030-01-01', '2039-12-31')\n",
    "bias_corrected = ecdf_bias_correction(rcp_45_data, obs_data, ref_times, future_times)"
   ]
  },
  {
   "cell_type": "code",
   "execution_count": null,
   "metadata": {},
   "outputs": [],
   "source": []
  }
 ],
 "metadata": {
  "kernelspec": {
   "display_name": "Python 3",
   "language": "python",
   "name": "python3"
  },
  "language_info": {
   "codemirror_mode": {
    "name": "ipython",
    "version": 3
   },
   "file_extension": ".py",
   "mimetype": "text/x-python",
   "name": "python",
   "nbconvert_exporter": "python",
   "pygments_lexer": "ipython3",
   "version": "3.7.3"
  }
 },
 "nbformat": 4,
 "nbformat_minor": 2
}
