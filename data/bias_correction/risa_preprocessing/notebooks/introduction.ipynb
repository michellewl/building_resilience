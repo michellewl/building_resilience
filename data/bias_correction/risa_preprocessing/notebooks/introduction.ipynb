{
 "cells": [
  {
   "cell_type": "markdown",
   "metadata": {},
   "source": [
    "## JASMIN \n",
    "\n",
    "Data (e.g. climate model, ERA-Interim) lives here. You will need to apply for access to:\n",
    "* JASMIN login (https://accounts.jasmin.ac.uk/services/login_services/jasmin-login/)\n",
    "* BAS group workspace (https://accounts.jasmin.ac.uk/services/group_workspaces/bas_climate/)\n",
    "\n",
    "## Data cleaning\n",
    "\n",
    "* Example code to download data from JASMIN + data cleaning\n",
    "https://github.com/risaueno/urban-climate-downloader\n",
    "  * --> `notebooks/get_cities.ipynb` (automated downloading and cleaning of grid-point data)\n",
    "  * --> `notebooks/data_cleaning.ipynb` (examples of how I load and clean data)\n",
    "  \n",
    "  \n",
    "* Accessing jupyter notebook on JASMIN from any network\n",
    "  * I like to set up SSH hopping from the terminal e.g.: \n",
    "`ssh -A -Y -L 8888:localhost:8890 jasmin-login1.ceda.ac.uk -t ssh -Y -L 8890:localhost:8891 jasmin-sci1.ceda.ac.uk`\n",
    "  * This means if you open a jupyter notebook at port 8891 on jasmin-sci1 (by running `jupyter notebook --port=8891`), you can access it from your local browser at `localhost:8888`, regardless of the network you're on.\n",
    "\n",
    "\n",
    "## Instructions\n",
    "* Create a new conda environment (/python virtual environment) and activate it\n",
    "* Fork my repo: https://github.com/risaueno/urban-climate-downloader\n",
    "* `git clone https://github.com/<your-username>/urban-climate-downloader`\n",
    "* cd into library and run `pip install -e .` (install dependencies)\n",
    "* `conda install nb_conda` (allows you to select kernel in specific conda environment)\n",
    "\n",
    "## Using Xarray"
   ]
  },
  {
   "cell_type": "code",
   "execution_count": 1,
   "metadata": {},
   "outputs": [],
   "source": [
    "import xarray as xr \n",
    "import numpy as np\n",
    "path = '../data/riskindex/netcdf/max_temperature/'"
   ]
  },
  {
   "cell_type": "code",
   "execution_count": 2,
   "metadata": {},
   "outputs": [
    {
     "data": {
      "text/plain": [
       "<xarray.DataArray 'MX2T' (time: 13870)>\n",
       "array([273.09656, 273.35147, 283.5008 , ..., 280.2819 , 284.54987, 285.18195],\n",
       "      dtype=float32)\n",
       "Coordinates:\n",
       "    day_of_year  (time) int64 ...\n",
       "    surface      float32 ...\n",
       "    year         (time) int64 ...\n",
       "  * time         (time) datetime64[ns] 1980-01-01 1980-01-02 ... 2017-12-31\n",
       "    lon          float64 ...\n",
       "    lat          float64 ...\n",
       "Attributes:\n",
       "    long_name:     Maximum 2 metre temperature since previous post-processing\n",
       "    units:         K\n",
       "    cell_methods:  day_of_year: year: maximum\n",
       "    city:          London\n",
       "    rcp:           None\n",
       "    model_type:    era"
      ]
     },
     "execution_count": 2,
     "metadata": {},
     "output_type": "execute_result"
    }
   ],
   "source": [
    "# Load 'observed' temperature\n",
    "data_era = xr.open_dataarray(path + 'London_ERAI.nc')\n",
    "data_era"
   ]
  },
  {
   "cell_type": "code",
   "execution_count": 3,
   "metadata": {},
   "outputs": [
    {
     "data": {
      "text/plain": [
       "<xarray.DataArray (time: 25915)>\n",
       "array([283.577637, 280.271443, 279.143461, ..., 279.336669, 278.550096,\n",
       "       283.045349])\n",
       "Coordinates:\n",
       "  * time     (time) datetime64[ns] 1980-01-01 1980-01-02 ... 2050-12-31\n",
       "    lon      float64 ...\n",
       "    lat      float64 ...\n",
       "Attributes:\n",
       "    standard_name:  air_temperature\n",
       "    long_name:      Daily Maximum Near-Surface Air Temperature\n",
       "    units:          K\n",
       "    original_name:  mo: m01s03i236\n",
       "    cell_methods:   time: maximum\n",
       "    cell_measures:  area: areacella\n",
       "    city:           London\n",
       "    rcp:            rcp45\n",
       "    model_type:     gcm"
      ]
     },
     "execution_count": 3,
     "metadata": {},
     "output_type": "execute_result"
    }
   ],
   "source": [
    "# Load climate model temperature\n",
    "data_gcm = xr.open_dataarray(path + 'London_rcp45.nc')\n",
    "data_gcm"
   ]
  },
  {
   "cell_type": "markdown",
   "metadata": {},
   "source": [
    "## Converting to pandas dataframe"
   ]
  },
  {
   "cell_type": "code",
   "execution_count": 6,
   "metadata": {},
   "outputs": [
    {
     "data": {
      "text/html": [
       "<div>\n",
       "<style scoped>\n",
       "    .dataframe tbody tr th:only-of-type {\n",
       "        vertical-align: middle;\n",
       "    }\n",
       "\n",
       "    .dataframe tbody tr th {\n",
       "        vertical-align: top;\n",
       "    }\n",
       "\n",
       "    .dataframe thead th {\n",
       "        text-align: right;\n",
       "    }\n",
       "</style>\n",
       "<table border=\"1\" class=\"dataframe\">\n",
       "  <thead>\n",
       "    <tr style=\"text-align: right;\">\n",
       "      <th></th>\n",
       "      <th>data</th>\n",
       "    </tr>\n",
       "    <tr>\n",
       "      <th>time</th>\n",
       "      <th></th>\n",
       "    </tr>\n",
       "  </thead>\n",
       "  <tbody>\n",
       "    <tr>\n",
       "      <td>1980-01-01</td>\n",
       "      <td>273.096558</td>\n",
       "    </tr>\n",
       "    <tr>\n",
       "      <td>1980-01-02</td>\n",
       "      <td>273.351471</td>\n",
       "    </tr>\n",
       "    <tr>\n",
       "      <td>1980-01-03</td>\n",
       "      <td>283.500793</td>\n",
       "    </tr>\n",
       "    <tr>\n",
       "      <td>1980-01-04</td>\n",
       "      <td>283.673218</td>\n",
       "    </tr>\n",
       "    <tr>\n",
       "      <td>1980-01-05</td>\n",
       "      <td>279.352417</td>\n",
       "    </tr>\n",
       "  </tbody>\n",
       "</table>\n",
       "</div>"
      ],
      "text/plain": [
       "                  data\n",
       "time                  \n",
       "1980-01-01  273.096558\n",
       "1980-01-02  273.351471\n",
       "1980-01-03  283.500793\n",
       "1980-01-04  283.673218\n",
       "1980-01-05  279.352417"
      ]
     },
     "execution_count": 6,
     "metadata": {},
     "output_type": "execute_result"
    }
   ],
   "source": [
    "from downloader import dataprocessing\n",
    "# ERA-Interim\n",
    "df_era = dataprocessing.da_to_df(data_era)\n",
    "df_era.head()"
   ]
  },
  {
   "cell_type": "code",
   "execution_count": 48,
   "metadata": {},
   "outputs": [],
   "source": [
    "a = data_era.sel(time=slice('1979-01-01' , '2017-01-01'))\n",
    "b = a.to_dataframe().reset_index()"
   ]
  },
  {
   "cell_type": "code",
   "execution_count": 49,
   "metadata": {},
   "outputs": [
    {
     "data": {
      "text/plain": [
       "count    13506.000000\n",
       "mean       286.792023\n",
       "std          6.026641\n",
       "min        267.066589\n",
       "25%        282.294975\n",
       "50%        286.690887\n",
       "75%        291.419792\n",
       "max        305.452759\n",
       "Name: MX2T, dtype: float64"
      ]
     },
     "execution_count": 49,
     "metadata": {},
     "output_type": "execute_result"
    }
   ],
   "source": [
    "b['MX2T'].describe()"
   ]
  },
  {
   "cell_type": "code",
   "execution_count": 50,
   "metadata": {},
   "outputs": [
    {
     "data": {
      "text/plain": [
       "<matplotlib.axes._subplots.AxesSubplot at 0x7fe60be347b8>"
      ]
     },
     "execution_count": 50,
     "metadata": {},
     "output_type": "execute_result"
    },
    {
     "data": {
      "image/png": "[encoded data removed]",
      "text/plain": [
       "<Figure size 432x288 with 1 Axes>"
      ]
     },
     "metadata": {
      "needs_background": "light"
     },
     "output_type": "display_data"
    }
   ],
   "source": [
    "%matplotlib inline\n",
    "b['MX2T'].hist()"
   ]
  },
  {
   "cell_type": "code",
   "execution_count": 51,
   "metadata": {},
   "outputs": [],
   "source": [
    "c = data_gcm.sel(time=slice('1979-01-01' , '2017-01-01'))\n",
    "# d = c.to_dataframe().reset_index()\n",
    "d = dataprocessing.da_to_df(c)"
   ]
  },
  {
   "cell_type": "code",
   "execution_count": 53,
   "metadata": {},
   "outputs": [
    {
     "data": {
      "text/html": [
       "<div>\n",
       "<style scoped>\n",
       "    .dataframe tbody tr th:only-of-type {\n",
       "        vertical-align: middle;\n",
       "    }\n",
       "\n",
       "    .dataframe tbody tr th {\n",
       "        vertical-align: top;\n",
       "    }\n",
       "\n",
       "    .dataframe thead th {\n",
       "        text-align: right;\n",
       "    }\n",
       "</style>\n",
       "<table border=\"1\" class=\"dataframe\">\n",
       "  <thead>\n",
       "    <tr style=\"text-align: right;\">\n",
       "      <th></th>\n",
       "      <th>data</th>\n",
       "    </tr>\n",
       "  </thead>\n",
       "  <tbody>\n",
       "    <tr>\n",
       "      <td>count</td>\n",
       "      <td>13506.000000</td>\n",
       "    </tr>\n",
       "    <tr>\n",
       "      <td>mean</td>\n",
       "      <td>287.159784</td>\n",
       "    </tr>\n",
       "    <tr>\n",
       "      <td>std</td>\n",
       "      <td>8.136373</td>\n",
       "    </tr>\n",
       "    <tr>\n",
       "      <td>min</td>\n",
       "      <td>261.546670</td>\n",
       "    </tr>\n",
       "    <tr>\n",
       "      <td>25%</td>\n",
       "      <td>281.039172</td>\n",
       "    </tr>\n",
       "    <tr>\n",
       "      <td>50%</td>\n",
       "      <td>286.551442</td>\n",
       "    </tr>\n",
       "    <tr>\n",
       "      <td>75%</td>\n",
       "      <td>293.654659</td>\n",
       "    </tr>\n",
       "    <tr>\n",
       "      <td>max</td>\n",
       "      <td>310.729640</td>\n",
       "    </tr>\n",
       "  </tbody>\n",
       "</table>\n",
       "</div>"
      ],
      "text/plain": [
       "               data\n",
       "count  13506.000000\n",
       "mean     287.159784\n",
       "std        8.136373\n",
       "min      261.546670\n",
       "25%      281.039172\n",
       "50%      286.551442\n",
       "75%      293.654659\n",
       "max      310.729640"
      ]
     },
     "execution_count": 53,
     "metadata": {},
     "output_type": "execute_result"
    }
   ],
   "source": [
    "d.describe()"
   ]
  },
  {
   "cell_type": "code",
   "execution_count": 52,
   "metadata": {},
   "outputs": [
    {
     "data": {
      "text/plain": [
       "<matplotlib.axes._subplots.AxesSubplot at 0x7fe60bd43128>"
      ]
     },
     "execution_count": 52,
     "metadata": {},
     "output_type": "execute_result"
    },
    {
     "data": {
      "image/png": "[encoded data removed]",
      "text/plain": [
       "<Figure size 432x288 with 1 Axes>"
      ]
     },
     "metadata": {
      "needs_background": "light"
     },
     "output_type": "display_data"
    }
   ],
   "source": [
    "%matplotlib inline\n",
    "d['data'].hist()"
   ]
  },
  {
   "cell_type": "code",
   "execution_count": 16,
   "metadata": {},
   "outputs": [
    {
     "data": {
      "text/html": [
       "<div>\n",
       "<style scoped>\n",
       "    .dataframe tbody tr th:only-of-type {\n",
       "        vertical-align: middle;\n",
       "    }\n",
       "\n",
       "    .dataframe tbody tr th {\n",
       "        vertical-align: top;\n",
       "    }\n",
       "\n",
       "    .dataframe thead th {\n",
       "        text-align: right;\n",
       "    }\n",
       "</style>\n",
       "<table border=\"1\" class=\"dataframe\">\n",
       "  <thead>\n",
       "    <tr style=\"text-align: right;\">\n",
       "      <th></th>\n",
       "      <th>data</th>\n",
       "    </tr>\n",
       "    <tr>\n",
       "      <th>time</th>\n",
       "      <th></th>\n",
       "    </tr>\n",
       "  </thead>\n",
       "  <tbody>\n",
       "    <tr>\n",
       "      <th>1980-01-01</th>\n",
       "      <td>283.577637</td>\n",
       "    </tr>\n",
       "    <tr>\n",
       "      <th>1980-01-02</th>\n",
       "      <td>280.271443</td>\n",
       "    </tr>\n",
       "    <tr>\n",
       "      <th>1980-01-03</th>\n",
       "      <td>279.143461</td>\n",
       "    </tr>\n",
       "    <tr>\n",
       "      <th>1980-01-04</th>\n",
       "      <td>285.184903</td>\n",
       "    </tr>\n",
       "    <tr>\n",
       "      <th>1980-01-05</th>\n",
       "      <td>281.610492</td>\n",
       "    </tr>\n",
       "  </tbody>\n",
       "</table>\n",
       "</div>"
      ],
      "text/plain": [
       "                  data\n",
       "time                  \n",
       "1980-01-01  283.577637\n",
       "1980-01-02  280.271443\n",
       "1980-01-03  279.143461\n",
       "1980-01-04  285.184903\n",
       "1980-01-05  281.610492"
      ]
     },
     "execution_count": 16,
     "metadata": {},
     "output_type": "execute_result"
    }
   ],
   "source": [
    "# GCM\n",
    "df_gcm = dataprocessing.da_to_df(data_gcm)\n",
    "df_gcm.head()"
   ]
  },
  {
   "cell_type": "markdown",
   "metadata": {},
   "source": [
    "## Plot example"
   ]
  },
  {
   "cell_type": "code",
   "execution_count": 17,
   "metadata": {},
   "outputs": [
    {
     "data": {
      "image/png": "[encoded data removed]",
      "text/plain": [
       "<Figure size 432x288 with 1 Axes>"
      ]
     },
     "metadata": {
      "needs_background": "light"
     },
     "output_type": "display_data"
    }
   ],
   "source": [
    "import matplotlib.pyplot as plt \n",
    "\n",
    "plt.figure()\n",
    "plt.plot(df_gcm.index, df_gcm.data, label='GCM')\n",
    "plt.plot(df_era.index, df_era.data, label='ERA')\n",
    "plt.xlabel('Time')\n",
    "plt.ylabel('Maximum Daily Temperature (K)')\n",
    "plt.legend()\n",
    "plt.show()"
   ]
  },
  {
   "cell_type": "code",
   "execution_count": 24,
   "metadata": {},
   "outputs": [
    {
     "data": {
      "image/png": "[encoded data removed]",
      "text/plain": [
       "<Figure size 432x288 with 1 Axes>"
      ]
     },
     "metadata": {
      "needs_background": "light"
     },
     "output_type": "display_data"
    }
   ],
   "source": [
    "plt.figure()\n",
    "plt.hist(df_gcm.data, alpha=0.8, label='GCM')\n",
    "plt.hist(df_era.data, alpha=0.8, label='ERA')\n",
    "plt.ylabel('Frequency')\n",
    "plt.xlabel('Maximum Daily Temperature (K)')\n",
    "plt.legend()\n",
    "plt.show()"
   ]
  },
  {
   "cell_type": "markdown",
   "metadata": {},
   "source": [
    "### Other data examples (London)"
   ]
  },
  {
   "cell_type": "code",
   "execution_count": 8,
   "metadata": {},
   "outputs": [],
   "source": [
    "import pandas as pd\n",
    "df = pd.read_csv('../data/riskindex/other_data_examples/london_Tmax_daily.csv')\n",
    "\n",
    "# load data from numpy binary\n",
    "X = df[['arcticT', 'nino3.4', 'NAO', 'QBO', 'lat_of_jet', 'mag_of_jet']]"
   ]
  },
  {
   "cell_type": "code",
   "execution_count": 9,
   "metadata": {},
   "outputs": [
    {
     "data": {
      "text/html": [
       "<div>\n",
       "<style scoped>\n",
       "    .dataframe tbody tr th:only-of-type {\n",
       "        vertical-align: middle;\n",
       "    }\n",
       "\n",
       "    .dataframe tbody tr th {\n",
       "        vertical-align: top;\n",
       "    }\n",
       "\n",
       "    .dataframe thead th {\n",
       "        text-align: right;\n",
       "    }\n",
       "</style>\n",
       "<table border=\"1\" class=\"dataframe\">\n",
       "  <thead>\n",
       "    <tr style=\"text-align: right;\">\n",
       "      <th></th>\n",
       "      <th>arcticT</th>\n",
       "      <th>nino3.4</th>\n",
       "      <th>NAO</th>\n",
       "      <th>QBO</th>\n",
       "      <th>lat_of_jet</th>\n",
       "      <th>mag_of_jet</th>\n",
       "    </tr>\n",
       "  </thead>\n",
       "  <tbody>\n",
       "    <tr>\n",
       "      <th>0</th>\n",
       "      <td>248.090063</td>\n",
       "      <td>-0.143465</td>\n",
       "      <td>-0.881458</td>\n",
       "      <td>11.731656</td>\n",
       "      <td>37.543774</td>\n",
       "      <td>8.965073</td>\n",
       "    </tr>\n",
       "    <tr>\n",
       "      <th>1</th>\n",
       "      <td>248.620606</td>\n",
       "      <td>-0.319746</td>\n",
       "      <td>-1.424852</td>\n",
       "      <td>11.443148</td>\n",
       "      <td>56.491062</td>\n",
       "      <td>6.947617</td>\n",
       "    </tr>\n",
       "    <tr>\n",
       "      <th>2</th>\n",
       "      <td>249.135300</td>\n",
       "      <td>-0.303755</td>\n",
       "      <td>-0.943254</td>\n",
       "      <td>11.374298</td>\n",
       "      <td>43.859547</td>\n",
       "      <td>10.600589</td>\n",
       "    </tr>\n",
       "    <tr>\n",
       "      <th>3</th>\n",
       "      <td>249.352215</td>\n",
       "      <td>-0.132075</td>\n",
       "      <td>-0.608684</td>\n",
       "      <td>11.426943</td>\n",
       "      <td>56.491062</td>\n",
       "      <td>10.934588</td>\n",
       "    </tr>\n",
       "    <tr>\n",
       "      <th>4</th>\n",
       "      <td>249.831553</td>\n",
       "      <td>-0.051684</td>\n",
       "      <td>1.821504</td>\n",
       "      <td>11.762138</td>\n",
       "      <td>59.999805</td>\n",
       "      <td>15.993987</td>\n",
       "    </tr>\n",
       "  </tbody>\n",
       "</table>\n",
       "</div>"
      ],
      "text/plain": [
       "      arcticT   nino3.4       NAO        QBO  lat_of_jet  mag_of_jet\n",
       "0  248.090063 -0.143465 -0.881458  11.731656   37.543774    8.965073\n",
       "1  248.620606 -0.319746 -1.424852  11.443148   56.491062    6.947617\n",
       "2  249.135300 -0.303755 -0.943254  11.374298   43.859547   10.600589\n",
       "3  249.352215 -0.132075 -0.608684  11.426943   56.491062   10.934588\n",
       "4  249.831553 -0.051684  1.821504  11.762138   59.999805   15.993987"
      ]
     },
     "execution_count": 9,
     "metadata": {},
     "output_type": "execute_result"
    }
   ],
   "source": [
    "X.head()"
   ]
  },
  {
   "cell_type": "code",
   "execution_count": null,
   "metadata": {},
   "outputs": [],
   "source": []
  }
 ],
 "metadata": {
  "kernelspec": {
   "display_name": "Python 3",
   "language": "python",
   "name": "python3"
  },
  "language_info": {
   "codemirror_mode": {
    "name": "ipython",
    "version": 3
   },
   "file_extension": ".py",
   "mimetype": "text/x-python",
   "name": "python",
   "nbconvert_exporter": "python",
   "pygments_lexer": "ipython3",
   "version": "3.7.3"
  }
 },
 "nbformat": 4,
 "nbformat_minor": 4
}
