{
 "cells": [
  {
   "cell_type": "code",
   "execution_count": 1,
   "metadata": {},
   "outputs": [],
   "source": [
    "import numpy as np\n",
    "import xarray as xr\n",
    "import pandas as pd\n",
    "import os\n",
    "from tqdm import tqdm\n",
    "from sklearn import linear_model\n",
    "import helper_functions as hf \n",
    "from sklearn import linear_model\n",
    "\n",
    "\n",
    "repo_path = '/home/tudor/Documents/GitHub/building_resilience'\n",
    "data_path = repo_path + '/data/top_to_bottom/data'"
   ]
  },
  {
   "cell_type": "code",
   "execution_count": 2,
   "metadata": {},
   "outputs": [],
   "source": [
    "## read data files:\n",
    "data_path = repo_path + '/data/top_to_bottom/data'\n",
    "\n",
    "# country codes for countries written in the UN format\n",
    "CCs = pd.read_csv(data_path + '/help_data/UN_country_code.csv')\n",
    "CCs = CCs.dropna(axis = 0).reset_index(drop=True)\n",
    "\n",
    "# country codes for countries written in the WB format\n",
    "WBs = pd.read_csv(data_path + '/help_data/WB_country_code.csv')\n",
    "WBs = WBs.dropna(axis = 0).reset_index(drop=True)\n",
    "\n",
    "#read WB data\n",
    "WB_data = pd.read_csv(data_path+'/WB_WDI_data/wb_data.csv')\n",
    "\n",
    "#read UN data\n",
    "UN_data = pd.read_csv(data_path+'/UN_data/WPP2019_TotalPopulationBySex.csv')\n",
    "\n",
    "# #read Climate reanalysis data\n",
    "# climate_data = pd.read_csv(data_path+'/climate_data/era5_reanalysis.csv')\n",
    "\n",
    "# #read GCM climate prediction data:\n",
    "# prediction_data = pd.read_csv(data_path+'/climate_data/future_final.csv')\n",
    "\n",
    "# read CDD data from Cimate reanalysis data and GCM prediction data:\n",
    "CDD = pd.read_csv(data_path+'/climate_data/countrywise_CDDs.csv')\n",
    "CDD = CDD.drop(columns=['Unnamed: 0'])\n",
    "CDD = CDD.replace(0, np.nan)\n",
    "CDD = CDD.dropna().reset_index(drop=True)"
   ]
  },
  {
   "cell_type": "code",
   "execution_count": 3,
   "metadata": {},
   "outputs": [
    {
     "name": "stdout",
     "output_type": "stream",
     "text": [
      "Medium scenario population prediction data succesfully extracted in your variable!\n"
     ]
    }
   ],
   "source": [
    "UN_prediction = hf.choose_UN_scenario(data_path,UN_data,'Medium')\n",
    "UN_prediction=hf.drop_unwanted_UN_years(UN_prediction)"
   ]
  },
  {
   "cell_type": "code",
   "execution_count": 13,
   "metadata": {},
   "outputs": [
    {
     "name": "stdout",
     "output_type": "stream",
     "text": [
      "WB data for the year 2000 was succesfully imported!\n",
      "WB data for the year 2001 was succesfully imported!\n",
      "WB data for the year 2002 was succesfully imported!\n",
      "WB data for the year 2003 was succesfully imported!\n",
      "WB data for the year 2004 was succesfully imported!\n",
      "WB data for the year 2005 was succesfully imported!\n",
      "WB data for the year 2006 was succesfully imported!\n",
      "WB data for the year 2007 was succesfully imported!\n",
      "WB data for the year 2008 was succesfully imported!\n",
      "WB data for the year 2009 was succesfully imported!\n",
      "WB data for the year 2010 was succesfully imported!\n",
      "WB data for the year 2011 was succesfully imported!\n",
      "WB data for the year 2012 was succesfully imported!\n",
      "WB data for the year 2013 was succesfully imported!\n",
      "WB data for the year 2014 was succesfully imported!\n"
     ]
    }
   ],
   "source": [
    "# initialise datasets for electricity:\n",
    "\n",
    "industrial = pd.read_csv('data/help_data/WB_country_code.csv').dropna(axis = 0).reset_index(drop=True)\n",
    "residential = pd.read_csv('data/help_data/WB_country_code.csv').dropna(axis = 0).reset_index(drop=True)\n",
    "commercial = pd.read_csv('data/help_data/WB_country_code.csv').dropna(axis = 0).reset_index(drop=True)\n",
    "\n",
    "for i in range(15):\n",
    "\n",
    "    year = i+2000\n",
    "    WB_dataset = hf.get_year_of_WB_data(year,WB_data)\n",
    "    iea_path = 'data/IEA_data/IEA_percentage_breakdown_'+str(hf.IEA_year(year))+'.csv'\n",
    "    IEA_dataset = pd.read_csv(iea_path)\n",
    "    IEA_dataset = IEA_dataset.drop(['split','new_Data'], axis=1)\n",
    "\n",
    "    WB_IEA = hf.merge_WB_and_IEA(WB_dataset,IEA_dataset)\n",
    "    ## WorldBank has inputed thier NaN values as '..', so we need to remove them\n",
    "    WB_IEA = WB_IEA.replace(to_replace='..', value=np.nan)\n",
    "    WB_IEA = WB_IEA.dropna(axis=0).reset_index(drop=True)\n",
    "\n",
    "\n",
    "    industry_elec_list = []\n",
    "    residential_elec_list = []\n",
    "    commercial_elec_list = []\n",
    "\n",
    "    for i in range(len(WB_IEA)):\n",
    "        df = WB_IEA.iloc[i,:]\n",
    "        ind_elec = float(df.iloc[3])*float(df.iloc[5])*float(df.iloc[2])*float(df.iloc[6])*0.2\n",
    "        industry_elec_list.append(ind_elec)\n",
    "        res_elec = float(df.iloc[3])*float(df.iloc[5])*float(df.iloc[2])*float(df.iloc[7])*0.2\n",
    "        residential_elec_list.append(res_elec)\n",
    "        com_elec = float(df.iloc[3])*float(df.iloc[5])*float(df.iloc[2])*float(df.iloc[8])*0.2\n",
    "        commercial_elec_list.append(com_elec)\n",
    "\n",
    "\n",
    "    WB_IEA['Cooling industry electricity (kWh)'] = industry_elec_list\n",
    "    WB_IEA['Cooling residential electricity (kWh)'] = residential_elec_list \n",
    "    WB_IEA['Cooling commercial electricity (kWh)'] = commercial_elec_list\n",
    "\n",
    "    df1 = WB_IEA[['Country Code','Cooling industry electricity (kWh)']]\n",
    "    industrial = industrial.merge(df1, on= 'Country Code', how = 'left')\n",
    "    industrial = industrial.rename(columns={\"Cooling industry electricity (kWh)\": str(year)})\n",
    "    \n",
    "    df2 = WB_IEA[['Country Code','Cooling residential electricity (kWh)']]\n",
    "    residential = residential.merge(df2, on= 'Country Code', how = 'left')\n",
    "    residential = residential.rename(columns={\"Cooling residential electricity (kWh)\": str(year)})\n",
    "\n",
    "\n",
    "    df3 = WB_IEA[['Country Code','Cooling commercial electricity (kWh)']]\n",
    "    commercial = commercial.merge(df3, on= 'Country Code', how = 'left')\n",
    "    commercial = commercial.rename(columns={\"Cooling commercial electricity (kWh)\": str(year)})\n",
    "\n",
    "industrial = industrial.dropna(thresh = 4).reset_index(drop=True)\n",
    "residential = residential.dropna(thresh = 4).reset_index(drop=True)\n",
    "commercial = commercial.dropna(thresh = 4).reset_index(drop=True)\n"
   ]
  },
  {
   "cell_type": "code",
   "execution_count": 185,
   "metadata": {},
   "outputs": [],
   "source": [
    "intersect_country = pd.read_csv('data/help_data/WB_country_code.csv')\n",
    "\n",
    "cdd_count = []\n",
    "pop_count = []\n",
    "elec_count= []\n",
    "\n",
    "for i in range(len(intersect_country)):\n",
    "    code = intersect_country.iloc[i]['Country Code']\n",
    "    \n",
    "    if (len(CDD[CDD['Country Code'] == code]) == 1):\n",
    "        cdd_count.append(1)\n",
    "    else:\n",
    "        cdd_count.append(np.nan)\n",
    "        \n",
    "    if (len(UN_prediction[UN_prediction['Country Code'] == code]) == 1):\n",
    "        pop_count.append(1)\n",
    "    else:\n",
    "        pop_count.append(np.nan)\n",
    "        \n",
    "    if (len(industrial[industrial['Country Code'] == code]) == 1):\n",
    "        elec_count.append(1)\n",
    "    else:\n",
    "        elec_count.append(np.nan)\n",
    "        \n",
    "intersect_country['CDD'] = cdd_count\n",
    "intersect_country['pop'] = pop_count\n",
    "intersect_country['elec']=elec_count\n",
    "\n",
    "\n",
    "intersect_country = intersect_country.dropna().reset_index(drop=True)\n"
   ]
  },
  {
   "cell_type": "code",
   "execution_count": 188,
   "metadata": {},
   "outputs": [],
   "source": [
    "coeffs_df = pd.DataFrame({'Country Code':list(intersect_country['Country Code'])})"
   ]
  },
  {
   "cell_type": "code",
   "execution_count": 236,
   "metadata": {},
   "outputs": [
    {
     "name": "stderr",
     "output_type": "stream",
     "text": [
      "100%|██████████| 99/99 [00:03<00:00, 32.42it/s]\n"
     ]
    }
   ],
   "source": [
    "ind_c_0 = []; ind_c_1 = []; ind_c_2 = []\n",
    "com_c_0 = []; com_c_1 = []; com_c_2 = []\n",
    "res_c_0 = []; res_c_1 = []; res_c_2 = []\n",
    "ind_pred= []; com_pred= []; res_pred= []\n",
    "\n",
    "#### THIS IS WHER THE FOR LOOP STARTS\n",
    "for i in tqdm(range(len(intersect_country))):\n",
    "\n",
    "    test_code = intersect_country['Country Code'].iloc[i]\n",
    "    cdd_list = CDD[CDD['Country Code'] == test_code].iloc[0,2:17]\n",
    "    pop_list = UN_prediction[UN_prediction['Country Code'] == test_code].iloc[0,2:17]\n",
    "    ind_list = industrial[industrial['Country Code'] == test_code].iloc[0,2:17]\n",
    "    com_list = commercial[commercial['Country Code'] == test_code].iloc[0,2:17]\n",
    "    res_list = residential[residential['Country Code'] == test_code].iloc[0,2:17]\n",
    "    dic_init = {'cdd':cdd_list, 'pop':pop_list, 'ind':ind_list, 'com':com_list, 'res':res_list}\n",
    "    df_init = pd.DataFrame(dic_init)\n",
    "    df_init = df_init.dropna().reset_index(drop=True)\n",
    "\n",
    "\n",
    "    cdd_fut = CDD[CDD['Country Code'] == test_code].iloc[0,20:30]\n",
    "    pop_fut = UN_prediction[UN_prediction['Country Code'] == test_code].iloc[0,23:33]\n",
    "    dic_fut = {'cdd':cdd_fut, 'pop':pop_fut}\n",
    "    df_fut = pd.DataFrame(dic_fut)\n",
    "    df_fut = df_fut.dropna().reset_index(drop=True)\n",
    "    \n",
    "    lm_ind = linear_model.LinearRegression(normalize = True)\n",
    "    X = df_init[['cdd','pop']]\n",
    "    y_ind = df_init['ind']\n",
    "    model = lm_ind.fit(X,y_ind)\n",
    "    ind_c_0.append(lm_ind.intercept_); ind_c_1.append(lm_ind.coef_[0]); ind_c_2.append(lm_ind.coef_[1])\n",
    "    ind_pred.append(lm_ind.predict(df_fut))\n",
    "    \n",
    "    lm_com = linear_model.LinearRegression(normalize = True)\n",
    "    X = df_init[['cdd','pop']]\n",
    "    y_com = df_init['com']\n",
    "    model = lm_com.fit(X,y_com)\n",
    "    com_c_0.append(lm_com.intercept_); com_c_1.append(lm_com.coef_[0]); com_c_2.append(lm_com.coef_[1])\n",
    "    com_pred.append(lm_com.predict(df_fut))\n",
    "\n",
    "    lm_res = linear_model.LinearRegression(normalize = True)\n",
    "    X = df_init[['cdd','pop']]\n",
    "    y_res = df_init['res']\n",
    "    model = lm_res.fit(X,y_res)\n",
    "    res_c_0.append(lm_res.intercept_); res_c_1.append(lm_res.coef_[0]); res_c_2.append(lm_res.coef_[1])\n",
    "    res_pred.append(lm_res.predict(df_fut))\n",
    "\n",
    "    \n",
    "coeffs_df['inter_ind'] = ind_c_0 \n",
    "coeffs_df['cdd_ind'] = ind_c_1\n",
    "coeffs_df['pop_ind'] = ind_c_2\n",
    "coeffs_df['inter_com'] = com_c_0\n",
    "coeffs_df['cdd_com'] = com_c_1\n",
    "coeffs_df['pop_com'] = com_c_2\n",
    "coeffs_df['inter_res'] = res_c_0\n",
    "coeffs_df['cdd_res'] = res_c_1\n",
    "coeffs_df['pop_res'] = res_c_2    "
   ]
  },
  {
   "cell_type": "code",
   "execution_count": 252,
   "metadata": {},
   "outputs": [],
   "source": [
    "industrial_pred = pd.DataFrame({'Country Code':list(intersect_country['Country Code'])})\n",
    "commercial_pred = pd.DataFrame({'Country Code':list(intersect_country['Country Code'])})\n",
    "residential_pred = pd.DataFrame({'Country Code':list(intersect_country['Country Code'])})\n",
    "dum = [0]*len(industrial_pred)\n",
    "for i in range(10):\n",
    "    industrial_pred[str(2021+i)] = dum\n",
    "    commercial_pred[str(2021+i)] = dum\n",
    "    residential_pred[str(2021+i)]= dum\n",
    "    \n",
    "for i in range(len(industrial_pred)):\n",
    "    industrial_pred.iloc[i,1:] = ind_pred[i]\n",
    "    commercial_pred.iloc[i,1:] = com_pred[i]\n",
    "    residential_pred.iloc[i,1:] = res_pred[i]"
   ]
  },
  {
   "cell_type": "code",
   "execution_count": 254,
   "metadata": {},
   "outputs": [],
   "source": [
    "industrial_pred.to_csv('data/output/industrial_prediction.csv')\n",
    "commercial_pred.to_csv('data/output/commercial_prediction.csv')\n",
    "residential_pred.to_csv('data/output/residential_prediction.csv')\n",
    "\n",
    "coeffs_df.to_csv('data/output/coefficients.csv')"
   ]
  },
  {
   "cell_type": "code",
   "execution_count": null,
   "metadata": {},
   "outputs": [],
   "source": []
  }
 ],
 "metadata": {
  "kernelspec": {
   "display_name": "Python 3",
   "language": "python",
   "name": "python3"
  },
  "language_info": {
   "codemirror_mode": {
    "name": "ipython",
    "version": 3
   },
   "file_extension": ".py",
   "mimetype": "text/x-python",
   "name": "python",
   "nbconvert_exporter": "python",
   "pygments_lexer": "ipython3",
   "version": "3.5.2"
  }
 },
 "nbformat": 4,
 "nbformat_minor": 4
}
