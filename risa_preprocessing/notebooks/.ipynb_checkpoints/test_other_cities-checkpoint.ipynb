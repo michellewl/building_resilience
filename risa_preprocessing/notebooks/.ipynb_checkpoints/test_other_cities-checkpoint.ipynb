{
 "cells": [
  {
   "cell_type": "code",
   "execution_count": 4,
   "metadata": {},
   "outputs": [],
   "source": [
    "import xarray as xr \n",
    "import numpy as np\n",
    "import glob\n",
    "path = '../data/riskindex/netcdf/max_temperature/'"
   ]
  },
  {
   "cell_type": "code",
   "execution_count": 15,
   "metadata": {},
   "outputs": [],
   "source": [
    "# Get file name\n",
    "files = glob.glob(path+'*')\n",
    "observed_files = glob.glob(path+'*ERAI*')\n",
    "rcp45_files =glob.glob(path+'*rcp45*')\n",
    "rcp85_files =glob.glob(path+'*rcp85*')"
   ]
  },
  {
   "cell_type": "code",
   "execution_count": 20,
   "metadata": {},
   "outputs": [
    {
     "data": {
      "text/plain": [
       "['../data/riskindex/netcdf/max_temperature/NYC_ERAI.nc',\n",
       " '../data/riskindex/netcdf/max_temperature/Madrid_ERAI.nc',\n",
       " '../data/riskindex/netcdf/max_temperature/Tokyo_ERAI.nc',\n",
       " '../data/riskindex/netcdf/max_temperature/London_ERAI.nc',\n",
       " '../data/riskindex/netcdf/max_temperature/Beijing_ERAI.nc']"
      ]
     },
     "execution_count": 20,
     "metadata": {},
     "output_type": "execute_result"
    }
   ],
   "source": [
    "observed_files"
   ]
  },
  {
   "cell_type": "code",
   "execution_count": 21,
   "metadata": {},
   "outputs": [
    {
     "data": {
      "text/plain": [
       "['../data/riskindex/netcdf/max_temperature/NYC_rcp45.nc',\n",
       " '../data/riskindex/netcdf/max_temperature/Madrid_rcp45.nc',\n",
       " '../data/riskindex/netcdf/max_temperature/Tokyo_rcp45.nc',\n",
       " '../data/riskindex/netcdf/max_temperature/London_rcp45.nc',\n",
       " '../data/riskindex/netcdf/max_temperature/Beijing_rcp45.nc']"
      ]
     },
     "execution_count": 21,
     "metadata": {},
     "output_type": "execute_result"
    }
   ],
   "source": [
    "rcp45_files"
   ]
  },
  {
   "cell_type": "code",
   "execution_count": 36,
   "metadata": {},
   "outputs": [
    {
     "data": {
      "text/plain": [
       "['NYC', 'Madrid', 'Tokyo', 'London', 'Beijing']"
      ]
     },
     "execution_count": 36,
     "metadata": {},
     "output_type": "execute_result"
    }
   ],
   "source": [
    "city_names = []\n",
    "for i in range(len(observed_files)):\n",
    "    city_names.append(observed_files[i].partition(path)[2][:-8])\n",
    "    \n",
    "city_names"
   ]
  },
  {
   "cell_type": "code",
   "execution_count": 24,
   "metadata": {},
   "outputs": [],
   "source": []
  },
  {
   "cell_type": "code",
   "execution_count": 25,
   "metadata": {},
   "outputs": [
    {
     "data": {
      "text/plain": [
       "''"
      ]
     },
     "execution_count": 25,
     "metadata": {},
     "output_type": "execute_result"
    }
   ],
   "source": []
  },
  {
   "cell_type": "code",
   "execution_count": 32,
   "metadata": {},
   "outputs": [
    {
     "data": {
      "text/plain": [
       "'Beijing'"
      ]
     },
     "execution_count": 32,
     "metadata": {},
     "output_type": "execute_result"
    }
   ],
   "source": [
    "observed_files[4].partition(path)[2][:-8]"
   ]
  },
  {
   "cell_type": "code",
   "execution_count": null,
   "metadata": {},
   "outputs": [],
   "source": []
  }
 ],
 "metadata": {
  "kernelspec": {
   "display_name": "Python 3",
   "language": "python",
   "name": "python3"
  },
  "language_info": {
   "codemirror_mode": {
    "name": "ipython",
    "version": 3
   },
   "file_extension": ".py",
   "mimetype": "text/x-python",
   "name": "python",
   "nbconvert_exporter": "python",
   "pygments_lexer": "ipython3",
   "version": "3.7.3"
  }
 },
 "nbformat": 4,
 "nbformat_minor": 4
}
